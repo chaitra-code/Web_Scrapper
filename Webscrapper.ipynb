{
 "metadata": {
  "language_info": {
   "codemirror_mode": {
    "name": "ipython",
    "version": 3
   },
   "file_extension": ".py",
   "mimetype": "text/x-python",
   "name": "python",
   "nbconvert_exporter": "python",
   "pygments_lexer": "ipython3",
   "version": "3.8.5"
  },
  "orig_nbformat": 2,
  "kernelspec": {
   "name": "python385jvsc74a57bd0cd8ac7ed5329ff1f59a8356dfddf06d159cf18414acbfd7b13d1d5cd1cbb5d7d",
   "display_name": "Python 3.8.5 64-bit ('base': conda)"
  }
 },
 "nbformat": 4,
 "nbformat_minor": 2,
 "cells": [
  {
   "cell_type": "code",
   "execution_count": 23,
   "metadata": {},
   "outputs": [],
   "source": [
    "import pandas as pd\n",
    "import requests\n",
    "from bs4 import BeautifulSoup\n",
    "data = []\n",
    "for i in range(1, 11):\n",
    "    WEBSITE = f'https://quotes.toscrape.com/page/{i}/'\n",
    "    html_content = requests.get(WEBSITE).content\n",
    "    soup = BeautifulSoup(html_content)\n",
    "    quotes = soup.find_all('div', class_='quote')\n",
    "    for quote in quotes:\n",
    "        text = quote.find('span', class_='text').text\n",
    "        author = quote.find('small', class_='author').text\n",
    "        tags = quote.find('div', class_='tags').find_all('a')\n",
    "        for quote in quotes:\n",
    "            text = quote.find('span', class_='text').text\n",
    "            author = quote.find('small', class_='author').text\n",
    "            tags = quote.find('div', class_='tags').find_all('a')\n",
    "            tags_ = []\n",
    "            for tag in tags:\n",
    "                tags_.append(tag.text)\n",
    "            single_quote = [author,text,tags_]\n",
    "            data.append(single_quote)\n"
   ]
  },
  {
   "cell_type": "code",
   "execution_count": 24,
   "metadata": {},
   "outputs": [],
   "source": [
    "df = pd.DataFrame(data, columns=['name', 'quote', 'tags'])"
   ]
  },
  {
   "cell_type": "code",
   "execution_count": 25,
   "metadata": {},
   "outputs": [
    {
     "output_type": "execute_result",
     "data": {
      "text/plain": [
       "                   name                                              quote  \\\n",
       "0       Albert Einstein  “The world as we have created it is a process ...   \n",
       "1          J.K. Rowling  “It is our choices, Harry, that show what we t...   \n",
       "2       Albert Einstein  “There are only two ways to live your life. On...   \n",
       "3           Jane Austen  “The person, be it gentleman or lady, who has ...   \n",
       "4        Marilyn Monroe  “Imperfection is beauty, madness is genius and...   \n",
       "..                  ...                                                ...   \n",
       "995          Harper Lee  “You never really understand a person until yo...   \n",
       "996   Madeleine L'Engle  “You have to write the book that wants to be w...   \n",
       "997          Mark Twain  “Never tell the truth to people who are not wo...   \n",
       "998           Dr. Seuss        “A person's a person, no matter how small.”   \n",
       "999  George R.R. Martin  “... a mind needs books as a sword needs a whe...   \n",
       "\n",
       "                                                  tags  \n",
       "0             [change, deep-thoughts, thinking, world]  \n",
       "1                                 [abilities, choices]  \n",
       "2       [inspirational, life, live, miracle, miracles]  \n",
       "3                   [aliteracy, books, classic, humor]  \n",
       "4                         [be-yourself, inspirational]  \n",
       "..                                                 ...  \n",
       "995                              [better-life-empathy]  \n",
       "996  [books, children, difficult, grown-ups, write,...  \n",
       "997                                            [truth]  \n",
       "998                                    [inspirational]  \n",
       "999                                      [books, mind]  \n",
       "\n",
       "[1000 rows x 3 columns]"
      ],
      "text/html": "<div>\n<style scoped>\n    .dataframe tbody tr th:only-of-type {\n        vertical-align: middle;\n    }\n\n    .dataframe tbody tr th {\n        vertical-align: top;\n    }\n\n    .dataframe thead th {\n        text-align: right;\n    }\n</style>\n<table border=\"1\" class=\"dataframe\">\n  <thead>\n    <tr style=\"text-align: right;\">\n      <th></th>\n      <th>name</th>\n      <th>quote</th>\n      <th>tags</th>\n    </tr>\n  </thead>\n  <tbody>\n    <tr>\n      <th>0</th>\n      <td>Albert Einstein</td>\n      <td>“The world as we have created it is a process ...</td>\n      <td>[change, deep-thoughts, thinking, world]</td>\n    </tr>\n    <tr>\n      <th>1</th>\n      <td>J.K. Rowling</td>\n      <td>“It is our choices, Harry, that show what we t...</td>\n      <td>[abilities, choices]</td>\n    </tr>\n    <tr>\n      <th>2</th>\n      <td>Albert Einstein</td>\n      <td>“There are only two ways to live your life. On...</td>\n      <td>[inspirational, life, live, miracle, miracles]</td>\n    </tr>\n    <tr>\n      <th>3</th>\n      <td>Jane Austen</td>\n      <td>“The person, be it gentleman or lady, who has ...</td>\n      <td>[aliteracy, books, classic, humor]</td>\n    </tr>\n    <tr>\n      <th>4</th>\n      <td>Marilyn Monroe</td>\n      <td>“Imperfection is beauty, madness is genius and...</td>\n      <td>[be-yourself, inspirational]</td>\n    </tr>\n    <tr>\n      <th>...</th>\n      <td>...</td>\n      <td>...</td>\n      <td>...</td>\n    </tr>\n    <tr>\n      <th>995</th>\n      <td>Harper Lee</td>\n      <td>“You never really understand a person until yo...</td>\n      <td>[better-life-empathy]</td>\n    </tr>\n    <tr>\n      <th>996</th>\n      <td>Madeleine L'Engle</td>\n      <td>“You have to write the book that wants to be w...</td>\n      <td>[books, children, difficult, grown-ups, write,...</td>\n    </tr>\n    <tr>\n      <th>997</th>\n      <td>Mark Twain</td>\n      <td>“Never tell the truth to people who are not wo...</td>\n      <td>[truth]</td>\n    </tr>\n    <tr>\n      <th>998</th>\n      <td>Dr. Seuss</td>\n      <td>“A person's a person, no matter how small.”</td>\n      <td>[inspirational]</td>\n    </tr>\n    <tr>\n      <th>999</th>\n      <td>George R.R. Martin</td>\n      <td>“... a mind needs books as a sword needs a whe...</td>\n      <td>[books, mind]</td>\n    </tr>\n  </tbody>\n</table>\n<p>1000 rows × 3 columns</p>\n</div>"
     },
     "metadata": {},
     "execution_count": 25
    }
   ],
   "source": [
    "df"
   ]
  },
  {
   "cell_type": "code",
   "execution_count": 30,
   "metadata": {},
   "outputs": [],
   "source": [
    "df.to_excel(\"quotes.xlsx\")"
   ]
  },
  {
   "cell_type": "code",
   "execution_count": null,
   "metadata": {},
   "outputs": [],
   "source": []
  }
 ]
}